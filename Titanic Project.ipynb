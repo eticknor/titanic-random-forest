{
 "cells": [
  {
   "cell_type": "markdown",
   "metadata": {},
   "source": [
    "# Survival on the Titanic:\n",
    "An exploratory analysis into Python for Data Science and Machine Learning\n",
    "### A Project by Evan Ticknor\n",
    "\n",
    "- Project Case\n",
    "- Data Collection\n",
    "- Exploratory Data Analysis\n",
    "- Feature Selection and Editing\n",
    "- Cross Validation\n",
    "- Model Selection\n",
    "- Hyper Parameter Tuning Set-up\n",
    "- Modelling\n",
    "- Evaluation of Model\n",
    "- Testing and Export\n",
    "- Acknowledgements\n"
   ]
  },
  {
   "cell_type": "markdown",
   "metadata": {},
   "source": [
    "## 1. Project Case\n",
    "\n",
    "Create a model to classify a subset of travellers on the Titanic as either Survived or Died using any methods available.\n",
    "\n",
    "Data is provided by the Kaggle Competition labeled, Titanic: Machine Learning from Disaster. This includes the split between our training and test data. Labels for the test data are not provided by the site, thus a summary of final results are discussed but not explicitly shown."
   ]
  },
  {
   "cell_type": "markdown",
   "metadata": {},
   "source": [
    "## 2. Data Collection\n",
    "Data from the compeition is stored in two separate .csv files labeled 'train' and test'. Using the pandas package the data is stored as a pandas DataFrame."
   ]
  },
  {
   "cell_type": "code",
   "execution_count": 1,
   "metadata": {},
   "outputs": [],
   "source": [
    "import pandas as pd\n",
    "\n",
    "train_data  =  pd.read_csv(r'C:\\Users\\Evan\\Documents\\Python Scripts\\Titanic\\train.csv')\n",
    "test_data   =  pd.read_csv(r'C:\\Users\\Evan\\Documents\\Python Scripts\\Titanic\\test.csv')\n",
    "\n",
    "#for purposes of ease of reading, warnings will be disabled as well\n",
    "import warnings\n",
    "warnings.filterwarnings('ignore')"
   ]
  },
  {
   "cell_type": "markdown",
   "metadata": {},
   "source": [
    "## 3. Exploratory Data Analysis\n",
    "\n",
    "As a basic understanding of the underlying structure of the dataset, we want to understand\n",
    "- Total # of Columns\n",
    "- Datatypes of each Column\n",
    "- Total # of Passengers in Train/Test data\n",
    "- Columns with missing values"
   ]
  },
  {
   "cell_type": "code",
   "execution_count": 2,
   "metadata": {},
   "outputs": [
    {
     "name": "stdout",
     "output_type": "stream",
     "text": [
      "<class 'pandas.core.frame.DataFrame'>\n",
      "RangeIndex: 891 entries, 0 to 890\n",
      "Data columns (total 12 columns):\n",
      "PassengerId    891 non-null int64\n",
      "Survived       891 non-null int64\n",
      "Pclass         891 non-null int64\n",
      "Name           891 non-null object\n",
      "Sex            891 non-null object\n",
      "Age            714 non-null float64\n",
      "SibSp          891 non-null int64\n",
      "Parch          891 non-null int64\n",
      "Ticket         891 non-null object\n",
      "Fare           891 non-null float64\n",
      "Cabin          204 non-null object\n",
      "Embarked       889 non-null object\n",
      "dtypes: float64(2), int64(5), object(5)\n",
      "memory usage: 83.6+ KB\n"
     ]
    }
   ],
   "source": [
    "train_data.info()"
   ]
  },
  {
   "cell_type": "markdown",
   "metadata": {},
   "source": [
    "We can confirm the test dataset was created with a adequete number of data points in relation to our training data, as well as reflective of the amount of information retained in documentation. (ie missing values)"
   ]
  },
  {
   "cell_type": "code",
   "execution_count": 3,
   "metadata": {},
   "outputs": [
    {
     "name": "stdout",
     "output_type": "stream",
     "text": [
      "<class 'pandas.core.frame.DataFrame'>\n",
      "RangeIndex: 418 entries, 0 to 417\n",
      "Data columns (total 11 columns):\n",
      "PassengerId    418 non-null int64\n",
      "Pclass         418 non-null int64\n",
      "Name           418 non-null object\n",
      "Sex            418 non-null object\n",
      "Age            332 non-null float64\n",
      "SibSp          418 non-null int64\n",
      "Parch          418 non-null int64\n",
      "Ticket         418 non-null object\n",
      "Fare           417 non-null float64\n",
      "Cabin          91 non-null object\n",
      "Embarked       418 non-null object\n",
      "dtypes: float64(2), int64(4), object(5)\n",
      "memory usage: 36.0+ KB\n"
     ]
    }
   ],
   "source": [
    "test_data.info()"
   ]
  },
  {
   "cell_type": "markdown",
   "metadata": {},
   "source": [
    "From our initial look into the data, the cabin information as well as specific age of many passengers was lost in the collection of information. A single Fare datapoint will also have to be imputed on test data, as we must submit a classifcation for all 418 passengers for the competition."
   ]
  },
  {
   "cell_type": "code",
   "execution_count": 4,
   "metadata": {},
   "outputs": [
    {
     "data": {
      "text/html": [
       "<div>\n",
       "<style scoped>\n",
       "    .dataframe tbody tr th:only-of-type {\n",
       "        vertical-align: middle;\n",
       "    }\n",
       "\n",
       "    .dataframe tbody tr th {\n",
       "        vertical-align: top;\n",
       "    }\n",
       "\n",
       "    .dataframe thead th {\n",
       "        text-align: right;\n",
       "    }\n",
       "</style>\n",
       "<table border=\"1\" class=\"dataframe\">\n",
       "  <thead>\n",
       "    <tr style=\"text-align: right;\">\n",
       "      <th></th>\n",
       "      <th>PassengerId</th>\n",
       "      <th>Survived</th>\n",
       "      <th>Pclass</th>\n",
       "      <th>Name</th>\n",
       "      <th>Sex</th>\n",
       "      <th>Age</th>\n",
       "      <th>SibSp</th>\n",
       "      <th>Parch</th>\n",
       "      <th>Ticket</th>\n",
       "      <th>Fare</th>\n",
       "      <th>Cabin</th>\n",
       "      <th>Embarked</th>\n",
       "    </tr>\n",
       "  </thead>\n",
       "  <tbody>\n",
       "    <tr>\n",
       "      <th>0</th>\n",
       "      <td>1</td>\n",
       "      <td>0</td>\n",
       "      <td>3</td>\n",
       "      <td>Braund, Mr. Owen Harris</td>\n",
       "      <td>male</td>\n",
       "      <td>22.0</td>\n",
       "      <td>1</td>\n",
       "      <td>0</td>\n",
       "      <td>A/5 21171</td>\n",
       "      <td>7.2500</td>\n",
       "      <td>NaN</td>\n",
       "      <td>S</td>\n",
       "    </tr>\n",
       "    <tr>\n",
       "      <th>1</th>\n",
       "      <td>2</td>\n",
       "      <td>1</td>\n",
       "      <td>1</td>\n",
       "      <td>Cumings, Mrs. John Bradley (Florence Briggs Th...</td>\n",
       "      <td>female</td>\n",
       "      <td>38.0</td>\n",
       "      <td>1</td>\n",
       "      <td>0</td>\n",
       "      <td>PC 17599</td>\n",
       "      <td>71.2833</td>\n",
       "      <td>C85</td>\n",
       "      <td>C</td>\n",
       "    </tr>\n",
       "    <tr>\n",
       "      <th>2</th>\n",
       "      <td>3</td>\n",
       "      <td>1</td>\n",
       "      <td>3</td>\n",
       "      <td>Heikkinen, Miss. Laina</td>\n",
       "      <td>female</td>\n",
       "      <td>26.0</td>\n",
       "      <td>0</td>\n",
       "      <td>0</td>\n",
       "      <td>STON/O2. 3101282</td>\n",
       "      <td>7.9250</td>\n",
       "      <td>NaN</td>\n",
       "      <td>S</td>\n",
       "    </tr>\n",
       "    <tr>\n",
       "      <th>3</th>\n",
       "      <td>4</td>\n",
       "      <td>1</td>\n",
       "      <td>1</td>\n",
       "      <td>Futrelle, Mrs. Jacques Heath (Lily May Peel)</td>\n",
       "      <td>female</td>\n",
       "      <td>35.0</td>\n",
       "      <td>1</td>\n",
       "      <td>0</td>\n",
       "      <td>113803</td>\n",
       "      <td>53.1000</td>\n",
       "      <td>C123</td>\n",
       "      <td>S</td>\n",
       "    </tr>\n",
       "    <tr>\n",
       "      <th>4</th>\n",
       "      <td>5</td>\n",
       "      <td>0</td>\n",
       "      <td>3</td>\n",
       "      <td>Allen, Mr. William Henry</td>\n",
       "      <td>male</td>\n",
       "      <td>35.0</td>\n",
       "      <td>0</td>\n",
       "      <td>0</td>\n",
       "      <td>373450</td>\n",
       "      <td>8.0500</td>\n",
       "      <td>NaN</td>\n",
       "      <td>S</td>\n",
       "    </tr>\n",
       "  </tbody>\n",
       "</table>\n",
       "</div>"
      ],
      "text/plain": [
       "   PassengerId  Survived  Pclass  \\\n",
       "0            1         0       3   \n",
       "1            2         1       1   \n",
       "2            3         1       3   \n",
       "3            4         1       1   \n",
       "4            5         0       3   \n",
       "\n",
       "                                                Name     Sex   Age  SibSp  \\\n",
       "0                            Braund, Mr. Owen Harris    male  22.0      1   \n",
       "1  Cumings, Mrs. John Bradley (Florence Briggs Th...  female  38.0      1   \n",
       "2                             Heikkinen, Miss. Laina  female  26.0      0   \n",
       "3       Futrelle, Mrs. Jacques Heath (Lily May Peel)  female  35.0      1   \n",
       "4                           Allen, Mr. William Henry    male  35.0      0   \n",
       "\n",
       "   Parch            Ticket     Fare Cabin Embarked  \n",
       "0      0         A/5 21171   7.2500   NaN        S  \n",
       "1      0          PC 17599  71.2833   C85        C  \n",
       "2      0  STON/O2. 3101282   7.9250   NaN        S  \n",
       "3      0            113803  53.1000  C123        S  \n",
       "4      0            373450   8.0500   NaN        S  "
      ]
     },
     "execution_count": 4,
     "metadata": {},
     "output_type": "execute_result"
    }
   ],
   "source": [
    "train_data.head()"
   ]
  },
  {
   "cell_type": "markdown",
   "metadata": {},
   "source": [
    "#### Description of Data\n",
    "For our integer and float values, a description of basic statistical values is shown. At first glance:\n",
    "- 38% of the passengers in our training data survived the sinking\n",
    "- Based on mean and std, most passengers were traveling alone or with a spouse\n",
    "- Fares for the trip vary widely"
   ]
  },
  {
   "cell_type": "code",
   "execution_count": 5,
   "metadata": {},
   "outputs": [
    {
     "data": {
      "text/html": [
       "<div>\n",
       "<style scoped>\n",
       "    .dataframe tbody tr th:only-of-type {\n",
       "        vertical-align: middle;\n",
       "    }\n",
       "\n",
       "    .dataframe tbody tr th {\n",
       "        vertical-align: top;\n",
       "    }\n",
       "\n",
       "    .dataframe thead th {\n",
       "        text-align: right;\n",
       "    }\n",
       "</style>\n",
       "<table border=\"1\" class=\"dataframe\">\n",
       "  <thead>\n",
       "    <tr style=\"text-align: right;\">\n",
       "      <th></th>\n",
       "      <th>PassengerId</th>\n",
       "      <th>Survived</th>\n",
       "      <th>Pclass</th>\n",
       "      <th>Age</th>\n",
       "      <th>SibSp</th>\n",
       "      <th>Parch</th>\n",
       "      <th>Fare</th>\n",
       "    </tr>\n",
       "  </thead>\n",
       "  <tbody>\n",
       "    <tr>\n",
       "      <th>count</th>\n",
       "      <td>891.000000</td>\n",
       "      <td>891.000000</td>\n",
       "      <td>891.000000</td>\n",
       "      <td>714.000000</td>\n",
       "      <td>891.000000</td>\n",
       "      <td>891.000000</td>\n",
       "      <td>891.000000</td>\n",
       "    </tr>\n",
       "    <tr>\n",
       "      <th>mean</th>\n",
       "      <td>446.000000</td>\n",
       "      <td>0.383838</td>\n",
       "      <td>2.308642</td>\n",
       "      <td>29.699118</td>\n",
       "      <td>0.523008</td>\n",
       "      <td>0.381594</td>\n",
       "      <td>32.204208</td>\n",
       "    </tr>\n",
       "    <tr>\n",
       "      <th>std</th>\n",
       "      <td>257.353842</td>\n",
       "      <td>0.486592</td>\n",
       "      <td>0.836071</td>\n",
       "      <td>14.526497</td>\n",
       "      <td>1.102743</td>\n",
       "      <td>0.806057</td>\n",
       "      <td>49.693429</td>\n",
       "    </tr>\n",
       "    <tr>\n",
       "      <th>min</th>\n",
       "      <td>1.000000</td>\n",
       "      <td>0.000000</td>\n",
       "      <td>1.000000</td>\n",
       "      <td>0.420000</td>\n",
       "      <td>0.000000</td>\n",
       "      <td>0.000000</td>\n",
       "      <td>0.000000</td>\n",
       "    </tr>\n",
       "    <tr>\n",
       "      <th>25%</th>\n",
       "      <td>223.500000</td>\n",
       "      <td>0.000000</td>\n",
       "      <td>2.000000</td>\n",
       "      <td>20.125000</td>\n",
       "      <td>0.000000</td>\n",
       "      <td>0.000000</td>\n",
       "      <td>7.910400</td>\n",
       "    </tr>\n",
       "    <tr>\n",
       "      <th>50%</th>\n",
       "      <td>446.000000</td>\n",
       "      <td>0.000000</td>\n",
       "      <td>3.000000</td>\n",
       "      <td>28.000000</td>\n",
       "      <td>0.000000</td>\n",
       "      <td>0.000000</td>\n",
       "      <td>14.454200</td>\n",
       "    </tr>\n",
       "    <tr>\n",
       "      <th>75%</th>\n",
       "      <td>668.500000</td>\n",
       "      <td>1.000000</td>\n",
       "      <td>3.000000</td>\n",
       "      <td>38.000000</td>\n",
       "      <td>1.000000</td>\n",
       "      <td>0.000000</td>\n",
       "      <td>31.000000</td>\n",
       "    </tr>\n",
       "    <tr>\n",
       "      <th>max</th>\n",
       "      <td>891.000000</td>\n",
       "      <td>1.000000</td>\n",
       "      <td>3.000000</td>\n",
       "      <td>80.000000</td>\n",
       "      <td>8.000000</td>\n",
       "      <td>6.000000</td>\n",
       "      <td>512.329200</td>\n",
       "    </tr>\n",
       "  </tbody>\n",
       "</table>\n",
       "</div>"
      ],
      "text/plain": [
       "       PassengerId    Survived      Pclass         Age       SibSp  \\\n",
       "count   891.000000  891.000000  891.000000  714.000000  891.000000   \n",
       "mean    446.000000    0.383838    2.308642   29.699118    0.523008   \n",
       "std     257.353842    0.486592    0.836071   14.526497    1.102743   \n",
       "min       1.000000    0.000000    1.000000    0.420000    0.000000   \n",
       "25%     223.500000    0.000000    2.000000   20.125000    0.000000   \n",
       "50%     446.000000    0.000000    3.000000   28.000000    0.000000   \n",
       "75%     668.500000    1.000000    3.000000   38.000000    1.000000   \n",
       "max     891.000000    1.000000    3.000000   80.000000    8.000000   \n",
       "\n",
       "            Parch        Fare  \n",
       "count  891.000000  891.000000  \n",
       "mean     0.381594   32.204208  \n",
       "std      0.806057   49.693429  \n",
       "min      0.000000    0.000000  \n",
       "25%      0.000000    7.910400  \n",
       "50%      0.000000   14.454200  \n",
       "75%      0.000000   31.000000  \n",
       "max      6.000000  512.329200  "
      ]
     },
     "execution_count": 5,
     "metadata": {},
     "output_type": "execute_result"
    }
   ],
   "source": [
    "train_data.describe()"
   ]
  },
  {
   "cell_type": "markdown",
   "metadata": {},
   "source": [
    "## 4. Feature Selection"
   ]
  },
  {
   "cell_type": "markdown",
   "metadata": {},
   "source": [
    "### 4.1 Prior Knowledge of Titanic Crash\n",
    "Based on the basic knowledge of the crash and the ensuing evacuation to the lifeboats, we understand:\n",
    "- Women and children were prioritized for places in the lifeboats\n",
    "- First Class cabins were in closer proximity to life boats\n",
    "- A portion of Third Class cabins were located near the bow of the boat, where the Titanic was submerged first\n",
    "\n",
    "Thus factors involving position of cabin in the boat or priority boarding onto the lifeboats should prove signifigant.\n"
   ]
  },
  {
   "cell_type": "markdown",
   "metadata": {},
   "source": [
    "### 4.2 Data Visualization\n",
    "Explain techniques to visualize data"
   ]
  },
  {
   "cell_type": "code",
   "execution_count": 6,
   "metadata": {},
   "outputs": [],
   "source": [
    "import matplotlib.pyplot as plt\n",
    "plt.style.use('seaborn')"
   ]
  },
  {
   "cell_type": "markdown",
   "metadata": {},
   "source": [
    "#### Gender Survival"
   ]
  },
  {
   "cell_type": "code",
   "execution_count": 7,
   "metadata": {},
   "outputs": [
    {
     "data": {
      "image/png": "[encoded data removed]",
      "text/plain": [
       "<Figure size 1080x504 with 1 Axes>"
      ]
     },
     "metadata": {
      "needs_background": "light"
     },
     "output_type": "display_data"
    }
   ],
   "source": [
    "import seaborn as sns\n",
    "\n",
    "fig, gen_plot = plt.subplots(figsize=(15, 7))\n",
    "gen_plot = sns.countplot(x=\"Sex\", hue=\"Survived\", data=train_data);"
   ]
  },
  {
   "cell_type": "markdown",
   "metadata": {},
   "source": [
    "This confirms our prior knowledge, where the female gender was overwhelmingly prioritized for boarding the lifeboats."
   ]
  },
  {
   "cell_type": "markdown",
   "metadata": {},
   "source": [
    "#### Gender/Class Survival"
   ]
  },
  {
   "cell_type": "code",
   "execution_count": 8,
   "metadata": {},
   "outputs": [
    {
     "data": {
      "image/png": "[encoded data removed]",
      "text/plain": [
       "<Figure size 1124.5x360 with 3 Axes>"
      ]
     },
     "metadata": {
      "needs_background": "light"
     },
     "output_type": "display_data"
    }
   ],
   "source": [
    "gp_plot = sns.catplot(x=\"Sex\", col=\"Pclass\", data=train_data, kind=\"count\", hue=\"Survived\");"
   ]
  },
  {
   "cell_type": "markdown",
   "metadata": {},
   "source": [
    "For both genders, Cabin class was correlated to survival rate. "
   ]
  },
  {
   "cell_type": "markdown",
   "metadata": {},
   "source": [
    "#### Family Size Survival Rate"
   ]
  },
  {
   "cell_type": "code",
   "execution_count": 9,
   "metadata": {},
   "outputs": [
    {
     "data": {
      "image/png": "[encoded data removed]",
      "text/plain": [
       "<Figure size 1440x504 with 2 Axes>"
      ]
     },
     "metadata": {
      "needs_background": "light"
     },
     "output_type": "display_data"
    }
   ],
   "source": [
    "train_data['Family'] = train_data['SibSp'] + train_data['Parch'] + 1\n",
    "test_data['Family'] = test_data['SibSp'] + test_data['Parch'] + 1\n",
    "fx, axes = plt.subplots(1, 2, figsize=(20,7))\n",
    "axes[0].set_title('Sib + Spouse')\n",
    "axes[1].set_title('Survival Rate vs Siblings + Spouse')\n",
    "fig1_family = sns.countplot(x=train_data.Family, ax=axes[0])\n",
    "fig2_family = sns.barplot(x=train_data.Family, y=train_data.Survived, ax=axes[1])"
   ]
  },
  {
   "cell_type": "markdown",
   "metadata": {},
   "source": [
    "There is a non-linear trend to the family size vs survival rate. A deeper look into the class divide amongst families may show insights."
   ]
  },
  {
   "cell_type": "code",
   "execution_count": 10,
   "metadata": {},
   "outputs": [
    {
     "data": {
      "image/png": "[encoded data removed]",
      "text/plain": [
       "<Figure size 1124.5x360 with 3 Axes>"
      ]
     },
     "metadata": {
      "needs_background": "light"
     },
     "output_type": "display_data"
    }
   ],
   "source": [
    "gp_plot = sns.catplot(x=\"Family\", col=\"Pclass\", data=train_data, kind=\"count\", hue=\"Survived\");"
   ]
  },
  {
   "cell_type": "markdown",
   "metadata": {},
   "source": [
    "From the data, traveling alone decreased probability of survival. For all classes, having a medium family size (ie children) increases chances of a family member surviving. Large families are almost entirely populated by Class 3 passengers and had a low probability of survival."
   ]
  },
  {
   "cell_type": "markdown",
   "metadata": {},
   "source": [
    "#### Survival Rate by Age"
   ]
  },
  {
   "cell_type": "code",
   "execution_count": 11,
   "metadata": {},
   "outputs": [
    {
     "data": {
      "image/png": "[encoded data removed]",
      "text/plain": [
       "<Figure size 1440x720 with 1 Axes>"
      ]
     },
     "metadata": {
      "needs_background": "light"
     },
     "output_type": "display_data"
    }
   ],
   "source": [
    "fig, age_plot = plt.subplots(figsize=(20, 10))\n",
    "age_plot = sns.distplot(train_data[train_data['Survived'] == 1].Age.dropna(),\n",
    "                        bins = 10, label = 'Survived',)\n",
    "age_plot = sns.distplot(train_data[train_data['Survived'] == 0].Age.dropna(),\n",
    "                        bins = 10, label = 'Died',)\n",
    "age_plot.legend()\n",
    "plt.show()"
   ]
  },
  {
   "cell_type": "markdown",
   "metadata": {},
   "source": [
    "The survivors seem to have a twin peaked trend on the kernal density approximation. This would make sense, as children and their respective younger mother were prioritized for lifeboat boarding."
   ]
  },
  {
   "cell_type": "markdown",
   "metadata": {},
   "source": [
    "#### Survival Rate by Fare"
   ]
  },
  {
   "cell_type": "code",
   "execution_count": 12,
   "metadata": {},
   "outputs": [
    {
     "data": {
      "image/png": "[encoded data removed]",
      "text/plain": [
       "<Figure size 1440x720 with 1 Axes>"
      ]
     },
     "metadata": {
      "needs_background": "light"
     },
     "output_type": "display_data"
    }
   ],
   "source": [
    "fig, age_plot = plt.subplots(figsize=(20, 10))\n",
    "fare_plot = sns.distplot(train_data[train_data['Survived'] == 1].Fare.dropna(), bins = 50,\n",
    "                         label = 'Survived')\n",
    "fare_plot = sns.distplot(train_data[train_data['Survived'] == 0].Fare.dropna(), bins = 50,\n",
    "                         label = 'Died')\n",
    "fare_plot.legend()\n",
    "plt.xlim(0,150)\n",
    "plt.show()"
   ]
  },
  {
   "cell_type": "markdown",
   "metadata": {},
   "source": [
    "As expected, higher fares indicate a higher probability of survival."
   ]
  },
  {
   "cell_type": "markdown",
   "metadata": {},
   "source": [
    "### 4.3 Compare Background with Linear Correlation of Features\n",
    "Provide info on running correlation"
   ]
  },
  {
   "cell_type": "code",
   "execution_count": 13,
   "metadata": {},
   "outputs": [
    {
     "data": {
      "text/plain": [
       "Survived       1.000000\n",
       "Fare           0.257307\n",
       "Parch          0.081629\n",
       "Family         0.016639\n",
       "PassengerId   -0.005007\n",
       "SibSp         -0.035322\n",
       "Age           -0.077221\n",
       "Pclass        -0.338481\n",
       "Name: Survived, dtype: float64"
      ]
     },
     "execution_count": 13,
     "metadata": {},
     "output_type": "execute_result"
    }
   ],
   "source": [
    "corr_matrix = train_data.corr()\n",
    "corr_matrix['Survived'].sort_values(ascending=False)"
   ]
  },
  {
   "cell_type": "markdown",
   "metadata": {},
   "source": [
    "Fare and Class appear to have strong linear correlations to survival. Family size shows a low linear correlation, but this is to be expected based on our non-linear observations in the data visualization."
   ]
  },
  {
   "cell_type": "markdown",
   "metadata": {},
   "source": [
    "###  4.4 Converting Gender from String to Integer\n",
    "This will enable our models to compute properly."
   ]
  },
  {
   "cell_type": "code",
   "execution_count": 14,
   "metadata": {},
   "outputs": [],
   "source": [
    "Sex = {'male': 0,'female': 1} \n",
    "train_data.Sex  = [Sex[item] for item in train_data.Sex]\n",
    "test_data.Sex   = [Sex[item] for item in test_data.Sex]"
   ]
  },
  {
   "cell_type": "markdown",
   "metadata": {},
   "source": [
    "### 4.5 Converting Names to Useful Title Categories\n",
    "The Name column in the dataset is a string that might be useful when broken down to its most basic components. Those with titles in their names may prove to be more prone to survival based on percieved occupational importance or social status."
   ]
  },
  {
   "cell_type": "code",
   "execution_count": 15,
   "metadata": {},
   "outputs": [],
   "source": [
    "data = [train_data, test_data]\n",
    "titles = {\"Mr\": 1, \"Miss\": 2, \"Mrs\": 3, \"Master\": 4, \"Special\": 5}\n",
    "\n",
    "for dataset in data:\n",
    "    # extract titles\n",
    "    dataset['Title'] = dataset.Name.str.extract(' ([A-Za-z]+)\\.', expand=False)\n",
    "    # replace titles with a more common title or as Rare\n",
    "    dataset['Title'] = dataset['Title'].replace(['Lady', 'Countess','Capt', 'Col','Don', 'Dr',\\\n",
    "                                            'Major', 'Rev', 'Sir', 'Jonkheer', 'Dona'], 'Special')\n",
    "    dataset['Title'] = dataset['Title'].replace('Mlle', 'Miss')\n",
    "    dataset['Title'] = dataset['Title'].replace('Ms', 'Miss')\n",
    "    dataset['Title'] = dataset['Title'].replace('Mme', 'Mrs')\n",
    "    # convert titles into numbers\n",
    "    dataset['Title'] = dataset['Title'].map(titles)\n",
    "    # filling NaN with 0, to get safe\n",
    "    dataset['Title'] = dataset['Title'].fillna(0)\n",
    "\n",
    "train_data = train_data.drop(['Name'], axis=1)\n",
    "test_data = test_data.drop(['Name'], axis=1)\n"
   ]
  },
  {
   "cell_type": "code",
   "execution_count": 16,
   "metadata": {},
   "outputs": [
    {
     "data": {
      "image/png": "[encoded data removed]",
      "text/plain": [
       "<Figure size 1844.5x360 with 5 Axes>"
      ]
     },
     "metadata": {
      "needs_background": "light"
     },
     "output_type": "display_data"
    }
   ],
   "source": [
    "gp_plot = sns.catplot(x=\"Pclass\", col=\"Title\", data=train_data, kind=\"count\", hue=\"Survived\");"
   ]
  },
  {
   "cell_type": "code",
   "execution_count": 17,
   "metadata": {},
   "outputs": [
    {
     "name": "stdout",
     "output_type": "stream",
     "text": [
      "{'Mr': 1, 'Miss': 2, 'Mrs': 3, 'Master': 4, 'Special': 5}\n"
     ]
    }
   ],
   "source": [
    "print(titles)"
   ]
  },
  {
   "cell_type": "markdown",
   "metadata": {},
   "source": [
    "### 4.6 Adjusting for Missing Values in Age and Converting to Age Groups\n",
    "For the missing ages, we are simply taking the mean of the dataset and applying to any NaN values in our dataframe. We are then converting the ages into six distinct groups for more generalized estimations."
   ]
  },
  {
   "cell_type": "code",
   "execution_count": 18,
   "metadata": {},
   "outputs": [],
   "source": [
    "import numpy as np\n",
    "\n",
    "train_data.fillna(np.mean(train_data.Age), inplace=True)\n",
    "test_data.fillna(np.mean(test_data.Age), inplace=True)\n",
    "\n",
    "data = [train_data, test_data]\n",
    "for dataset in data:\n",
    "    dataset['Age'] = dataset['Age'].astype(int)\n",
    "    dataset.loc[ dataset['Age'] <= 12, 'Age'] = 0\n",
    "    dataset.loc[(dataset['Age'] > 12) & (dataset['Age'] <= 18), 'Age'] = 1\n",
    "    dataset.loc[(dataset['Age'] > 18) & (dataset['Age'] <= 25), 'Age'] = 2\n",
    "    dataset.loc[(dataset['Age'] > 25) & (dataset['Age'] <= 30), 'Age'] = 3\n",
    "    dataset.loc[(dataset['Age'] > 30) & (dataset['Age'] <= 40), 'Age'] = 4\n",
    "    dataset.loc[(dataset['Age'] > 40) & (dataset['Age'] <= 50), 'Age'] = 5\n",
    "    dataset.loc[ dataset['Age'] > 50, 'Age'] = 6"
   ]
  },
  {
   "cell_type": "markdown",
   "metadata": {},
   "source": [
    "### 4.7 Adjusting for Missing Ticket Fare (Fare == 0)\n",
    "There is one Fare value in test data that requires imputation. As well, any $0 fare is converted to the mean of the total respective dataset."
   ]
  },
  {
   "cell_type": "code",
   "execution_count": 19,
   "metadata": {},
   "outputs": [],
   "source": [
    "data = [train_data, test_data]\n",
    "\n",
    "for dataset in data:\n",
    "    dataset['Fare'] = dataset['Fare'].fillna(0)\n",
    "    dataset['Fare'] = dataset['Fare'].astype(int)\n",
    "    mean_fare = np.mean(dataset['Fare'])\n",
    "    dataset['Fare'] = dataset.Fare.mask(dataset.Fare == 0,mean_fare)"
   ]
  },
  {
   "cell_type": "markdown",
   "metadata": {},
   "source": [
    "##  4.8 Final Feature Selection\n",
    "Chosen:\n",
    "- Sex, Age, Pclass, Fare, Family(size), Title\n",
    "\n",
    "Dropped:\n",
    "- Name, Cabin(missing values), Ticket (no usable relation), Embarked"
   ]
  },
  {
   "cell_type": "code",
   "execution_count": 20,
   "metadata": {},
   "outputs": [
    {
     "data": {
      "text/html": [
       "<div>\n",
       "<style scoped>\n",
       "    .dataframe tbody tr th:only-of-type {\n",
       "        vertical-align: middle;\n",
       "    }\n",
       "\n",
       "    .dataframe tbody tr th {\n",
       "        vertical-align: top;\n",
       "    }\n",
       "\n",
       "    .dataframe thead th {\n",
       "        text-align: right;\n",
       "    }\n",
       "</style>\n",
       "<table border=\"1\" class=\"dataframe\">\n",
       "  <thead>\n",
       "    <tr style=\"text-align: right;\">\n",
       "      <th></th>\n",
       "      <th>Sex</th>\n",
       "      <th>Age</th>\n",
       "      <th>Pclass</th>\n",
       "      <th>Fare</th>\n",
       "      <th>Family</th>\n",
       "      <th>Title</th>\n",
       "    </tr>\n",
       "  </thead>\n",
       "  <tbody>\n",
       "    <tr>\n",
       "      <th>0</th>\n",
       "      <td>0</td>\n",
       "      <td>2</td>\n",
       "      <td>3</td>\n",
       "      <td>7.0</td>\n",
       "      <td>2</td>\n",
       "      <td>1</td>\n",
       "    </tr>\n",
       "    <tr>\n",
       "      <th>1</th>\n",
       "      <td>1</td>\n",
       "      <td>4</td>\n",
       "      <td>1</td>\n",
       "      <td>71.0</td>\n",
       "      <td>2</td>\n",
       "      <td>3</td>\n",
       "    </tr>\n",
       "    <tr>\n",
       "      <th>2</th>\n",
       "      <td>1</td>\n",
       "      <td>3</td>\n",
       "      <td>3</td>\n",
       "      <td>7.0</td>\n",
       "      <td>1</td>\n",
       "      <td>2</td>\n",
       "    </tr>\n",
       "    <tr>\n",
       "      <th>3</th>\n",
       "      <td>1</td>\n",
       "      <td>4</td>\n",
       "      <td>1</td>\n",
       "      <td>53.0</td>\n",
       "      <td>2</td>\n",
       "      <td>3</td>\n",
       "    </tr>\n",
       "    <tr>\n",
       "      <th>4</th>\n",
       "      <td>0</td>\n",
       "      <td>4</td>\n",
       "      <td>3</td>\n",
       "      <td>8.0</td>\n",
       "      <td>1</td>\n",
       "      <td>1</td>\n",
       "    </tr>\n",
       "  </tbody>\n",
       "</table>\n",
       "</div>"
      ],
      "text/plain": [
       "   Sex  Age  Pclass  Fare  Family  Title\n",
       "0    0    2       3   7.0       2      1\n",
       "1    1    4       1  71.0       2      3\n",
       "2    1    3       3   7.0       1      2\n",
       "3    1    4       1  53.0       2      3\n",
       "4    0    4       3   8.0       1      1"
      ]
     },
     "execution_count": 20,
     "metadata": {},
     "output_type": "execute_result"
    }
   ],
   "source": [
    "features_train  = pd.DataFrame(train_data, columns=['Sex', 'Age', 'Pclass', 'Fare', 'Family', 'Title'])\n",
    "labels_train    = train_data['Survived']\n",
    "features_train.head()"
   ]
  },
  {
   "cell_type": "code",
   "execution_count": 21,
   "metadata": {},
   "outputs": [
    {
     "name": "stdout",
     "output_type": "stream",
     "text": [
      "<class 'pandas.core.frame.DataFrame'>\n",
      "RangeIndex: 891 entries, 0 to 890\n",
      "Data columns (total 6 columns):\n",
      "Sex       891 non-null int64\n",
      "Age       891 non-null int32\n",
      "Pclass    891 non-null int64\n",
      "Fare      891 non-null float64\n",
      "Family    891 non-null int64\n",
      "Title     891 non-null int64\n",
      "dtypes: float64(1), int32(1), int64(4)\n",
      "memory usage: 38.4 KB\n"
     ]
    }
   ],
   "source": [
    "features_train.info()"
   ]
  },
  {
   "cell_type": "markdown",
   "metadata": {},
   "source": [
    "## 5. Cross Validation Set-up\n",
    "A K-Fold Cross Validation technique will be used to best approximate the models' accuracy and tendency for overfitting or selection bias. Given the inability to fully investigate the results of the test data set, we will use this technique to provide more backing for the ability of each model to generalize to new test data."
   ]
  },
  {
   "cell_type": "code",
   "execution_count": 22,
   "metadata": {},
   "outputs": [],
   "source": [
    "from sklearn.model_selection import KFold\n",
    "from sklearn.model_selection import cross_val_score\n",
    "k_fold = KFold(n_splits=10, shuffle=True, random_state=42)"
   ]
  },
  {
   "cell_type": "markdown",
   "metadata": {},
   "source": [
    "## 6. Model Selection\n",
    "Three models are explored:\n",
    "- Random Forest\n",
    "- Gaussian Naive Bayes\n",
    "- Support Vector Machine"
   ]
  },
  {
   "cell_type": "code",
   "execution_count": 23,
   "metadata": {},
   "outputs": [
    {
     "name": "stderr",
     "output_type": "stream",
     "text": [
      "C:\\Users\\Evan\\Anaconda3\\lib\\site-packages\\sklearn\\ensemble\\weight_boosting.py:29: DeprecationWarning: numpy.core.umath_tests is an internal NumPy module and should not be imported. It will be removed in a future NumPy release.\n",
      "  from numpy.core.umath_tests import inner1d\n"
     ]
    }
   ],
   "source": [
    "from sklearn.ensemble import RandomForestClassifier\n",
    "from sklearn.naive_bayes import GaussianNB\n",
    "from sklearn.svm import SVC"
   ]
  },
  {
   "cell_type": "markdown",
   "metadata": {},
   "source": [
    "### 6.1 Random Forest Classifier\n",
    "Via scikit-learn.org\n",
    "\n",
    "\"A random forest is a meta estimator that fits a number of decision tree classifiers on various sub-samples of the dataset and uses averaging to improve the predictive accuracy and control over-fitting.\""
   ]
  },
  {
   "cell_type": "code",
   "execution_count": 24,
   "metadata": {},
   "outputs": [
    {
     "name": "stdout",
     "output_type": "stream",
     "text": [
      "[0.84444444 0.84269663 0.79775281 0.76404494 0.79775281 0.83146067\n",
      " 0.78651685 0.83146067 0.7752809  0.91011236]\n"
     ]
    }
   ],
   "source": [
    "clf_rf = RandomForestClassifier(random_state=42)\n",
    "score_rf = cross_val_score(clf_rf, features_train, labels_train, cv=k_fold, scoring='accuracy')\n",
    "print(score_rf)"
   ]
  },
  {
   "cell_type": "code",
   "execution_count": 25,
   "metadata": {},
   "outputs": [
    {
     "name": "stdout",
     "output_type": "stream",
     "text": [
      "Classifier Accuracy 81.82 Std Dev 0.041\n"
     ]
    }
   ],
   "source": [
    "print('Classifier Accuracy', round(np.mean(score_rf)*100,2), 'Std Dev', round(np.std(score_rf),3))"
   ]
  },
  {
   "cell_type": "markdown",
   "metadata": {},
   "source": [
    "### 6.2 Gaussian Naive Bayes Classifier\n",
    "via Wikipedia.org/Naive_Bayes_Classifier\n",
    "\n",
    "\"In machine learning, naive Bayes classifiers are a family of simple \"probabilistic classifiers\" based on applying Bayes' theorem with strong (naive) independence assumptions between the features.\""
   ]
  },
  {
   "cell_type": "code",
   "execution_count": 26,
   "metadata": {},
   "outputs": [
    {
     "name": "stdout",
     "output_type": "stream",
     "text": [
      "[0.78888889 0.76404494 0.83146067 0.7752809  0.85393258 0.83146067\n",
      " 0.7752809  0.73033708 0.75280899 0.87640449]\n"
     ]
    }
   ],
   "source": [
    "clf_NB = GaussianNB()\n",
    "score_nb = cross_val_score(clf_NB, features_train, labels_train, cv=k_fold, scoring='accuracy')\n",
    "print(score_nb)"
   ]
  },
  {
   "cell_type": "code",
   "execution_count": 27,
   "metadata": {},
   "outputs": [
    {
     "name": "stdout",
     "output_type": "stream",
     "text": [
      "Classifier Accuracy 79.8 Std Dev 0.045\n"
     ]
    }
   ],
   "source": [
    "print('Classifier Accuracy', round(np.mean(score_nb)*100,2), 'Std Dev', round(np.std(score_nb),3))"
   ]
  },
  {
   "cell_type": "markdown",
   "metadata": {},
   "source": [
    "###  6.3 Support Vector Machine Classifier\n",
    "via Wikipedia.org/Support-vector_machine\n",
    "\n",
    "\"An SVM model is a representation of the examples as points in space, mapped so that the examples of the separate categories are divided by a clear gap that is as wide as possible. New examples are then mapped into that same space and predicted to belong to a category based on which side of the gap they fall.\""
   ]
  },
  {
   "cell_type": "code",
   "execution_count": 28,
   "metadata": {},
   "outputs": [
    {
     "name": "stdout",
     "output_type": "stream",
     "text": [
      "[0.8        0.7752809  0.7752809  0.75280899 0.78651685 0.83146067\n",
      " 0.76404494 0.78651685 0.74157303 0.86516854]\n"
     ]
    }
   ],
   "source": [
    "clf_SVC = SVC(random_state=42)\n",
    "score_svc = cross_val_score(clf_SVC, features_train, labels_train, cv=k_fold, scoring='accuracy')\n",
    "print(score_svc)"
   ]
  },
  {
   "cell_type": "code",
   "execution_count": 29,
   "metadata": {},
   "outputs": [
    {
     "name": "stdout",
     "output_type": "stream",
     "text": [
      "Classifier Accuracy 78.79 Std Dev 0.04\n"
     ]
    }
   ],
   "source": [
    "print('Classifier Accuracy', round(np.mean(score_svc)*100,2), 'Std Dev', round(np.std(score_svc),2))"
   ]
  },
  {
   "cell_type": "markdown",
   "metadata": {},
   "source": [
    "###  6.4 Feature Importances in Random Forest\n",
    "Based on our accuracy results, we will proceed with the Random Forest Classifier. We can gain insights into the importance of each feature in the decision trees found in the RF classifier."
   ]
  },
  {
   "cell_type": "code",
   "execution_count": 30,
   "metadata": {},
   "outputs": [
    {
     "data": {
      "text/html": [
       "<div>\n",
       "<style scoped>\n",
       "    .dataframe tbody tr th:only-of-type {\n",
       "        vertical-align: middle;\n",
       "    }\n",
       "\n",
       "    .dataframe tbody tr th {\n",
       "        vertical-align: top;\n",
       "    }\n",
       "\n",
       "    .dataframe thead th {\n",
       "        text-align: right;\n",
       "    }\n",
       "</style>\n",
       "<table border=\"1\" class=\"dataframe\">\n",
       "  <thead>\n",
       "    <tr style=\"text-align: right;\">\n",
       "      <th></th>\n",
       "      <th>Importance</th>\n",
       "    </tr>\n",
       "    <tr>\n",
       "      <th>Feature</th>\n",
       "      <th></th>\n",
       "    </tr>\n",
       "  </thead>\n",
       "  <tbody>\n",
       "    <tr>\n",
       "      <th>Fare</th>\n",
       "      <td>0.278</td>\n",
       "    </tr>\n",
       "    <tr>\n",
       "      <th>Title</th>\n",
       "      <td>0.263</td>\n",
       "    </tr>\n",
       "    <tr>\n",
       "      <th>Sex</th>\n",
       "      <td>0.136</td>\n",
       "    </tr>\n",
       "    <tr>\n",
       "      <th>Age</th>\n",
       "      <td>0.126</td>\n",
       "    </tr>\n",
       "    <tr>\n",
       "      <th>Pclass</th>\n",
       "      <td>0.106</td>\n",
       "    </tr>\n",
       "    <tr>\n",
       "      <th>Family</th>\n",
       "      <td>0.092</td>\n",
       "    </tr>\n",
       "  </tbody>\n",
       "</table>\n",
       "</div>"
      ],
      "text/plain": [
       "         Importance\n",
       "Feature            \n",
       "Fare          0.278\n",
       "Title         0.263\n",
       "Sex           0.136\n",
       "Age           0.126\n",
       "Pclass        0.106\n",
       "Family        0.092"
      ]
     },
     "execution_count": 30,
     "metadata": {},
     "output_type": "execute_result"
    }
   ],
   "source": [
    "clf_rf.fit(features_train, labels_train)\n",
    "importances = pd.DataFrame({'Feature':features_train.columns,'Importance':np.round(clf_rf.feature_importances_,3)})\n",
    "importances = importances.sort_values('Importance',ascending=False).set_index('Feature')\n",
    "importances.head(6)"
   ]
  },
  {
   "cell_type": "markdown",
   "metadata": {},
   "source": [
    "We can see the Fare and Title carry the strongest importance in the classifier, but all carry enough weight to proceed with the features into our next step."
   ]
  },
  {
   "cell_type": "markdown",
   "metadata": {},
   "source": [
    "## 7. Grid Search for Hyper-Tuning of Classifier\n",
    "Using a Grid Search via our sklearn extension, multiple tuning parameters can be tested at varying levels. For this projects purpose, an exhaustive search between specific parameter values will be used rather than a random search or other GridSearch method."
   ]
  },
  {
   "cell_type": "code",
   "execution_count": 31,
   "metadata": {},
   "outputs": [],
   "source": [
    "from sklearn.model_selection import GridSearchCV"
   ]
  },
  {
   "cell_type": "code",
   "execution_count": 32,
   "metadata": {},
   "outputs": [],
   "source": [
    "param_grid = [{'n_estimators': [10, 100, 200, 600], 'min_samples_leaf': [1, 5, 10], \"criterion\": [\"gini\"]}]"
   ]
  },
  {
   "cell_type": "code",
   "execution_count": 33,
   "metadata": {},
   "outputs": [
    {
     "name": "stdout",
     "output_type": "stream",
     "text": [
      "{'criterion': 'gini', 'min_samples_leaf': 5, 'n_estimators': 200}\n",
      "Accuracy of Hyper-tuned Model 0.8383838383838383\n"
     ]
    }
   ],
   "source": [
    "clf = RandomForestClassifier(random_state=42)\n",
    "grid_search = GridSearchCV(clf, param_grid, cv=10, n_jobs=-1)\n",
    "grid_search.fit(features_train, labels_train)\n",
    "grid_search.best_params_\n",
    "print(grid_search.best_params_)\n",
    "print('Accuracy of Hyper-tuned Model', grid_search.best_score_)"
   ]
  },
  {
   "cell_type": "markdown",
   "metadata": {},
   "source": [
    "It appears from tuning we obtained an additional 2% accuracy on our training data!"
   ]
  },
  {
   "cell_type": "markdown",
   "metadata": {},
   "source": [
    "## 8. Creation of Model\n",
    "Random Forest Classification Model"
   ]
  },
  {
   "cell_type": "code",
   "execution_count": 34,
   "metadata": {},
   "outputs": [
    {
     "data": {
      "text/plain": [
       "RandomForestClassifier(bootstrap=True, class_weight=None, criterion='gini',\n",
       "            max_depth=None, max_features='auto', max_leaf_nodes=None,\n",
       "            min_impurity_decrease=0.0, min_impurity_split=None,\n",
       "            min_samples_leaf=5, min_samples_split=2,\n",
       "            min_weight_fraction_leaf=0.0, n_estimators=200, n_jobs=1,\n",
       "            oob_score=False, random_state=42, verbose=0, warm_start=False)"
      ]
     },
     "execution_count": 34,
     "metadata": {},
     "output_type": "execute_result"
    }
   ],
   "source": [
    "clf_rf = RandomForestClassifier(n_estimators=200, min_samples_leaf=5, random_state=42)\n",
    "clf_rf.fit(features_train, labels_train)"
   ]
  },
  {
   "cell_type": "markdown",
   "metadata": {},
   "source": [
    "## 9. Model Evaluation"
   ]
  },
  {
   "cell_type": "code",
   "execution_count": 35,
   "metadata": {},
   "outputs": [
    {
     "data": {
      "text/plain": [
       "array([[496,  53],\n",
       "       [ 96, 246]], dtype=int64)"
      ]
     },
     "execution_count": 35,
     "metadata": {},
     "output_type": "execute_result"
    }
   ],
   "source": [
    "from sklearn.model_selection import cross_val_predict\n",
    "from sklearn.metrics import confusion_matrix\n",
    "\n",
    "predictions = cross_val_predict(clf_rf, features_train, labels_train, cv=k_fold)\n",
    "confusion_matrix(labels_train, predictions)"
   ]
  },
  {
   "cell_type": "markdown",
   "metadata": {},
   "source": [
    "Based on our evaluations of the training data:\n",
    "- 496 Passengers were correctly identified as Deceased (True Negative)\n",
    "- 53 Passengers were incorrectly identified as Deceased (False Positive)\n",
    "- 96 Passengers were incorrectly identified as Survived (False Negative)\n",
    "- 246 Passengers were correctly identified as Survived (True Positive)"
   ]
  },
  {
   "cell_type": "markdown",
   "metadata": {},
   "source": [
    "###  Precision and Recall"
   ]
  },
  {
   "cell_type": "code",
   "execution_count": 36,
   "metadata": {},
   "outputs": [
    {
     "name": "stdout",
     "output_type": "stream",
     "text": [
      "Precision: 0.822742474916388\n",
      "Recall: 0.7192982456140351\n"
     ]
    }
   ],
   "source": [
    "from sklearn.metrics import precision_score, recall_score\n",
    "\n",
    "print(\"Precision:\", precision_score(labels_train, predictions))\n",
    "print(\"Recall:\",recall_score(labels_train, predictions))"
   ]
  },
  {
   "cell_type": "markdown",
   "metadata": {},
   "source": [
    "The model predicts 82.2% of the time, a passengers survival correctly (precision). The recall indicates it predicted survival of 72 % of people who actually survived."
   ]
  },
  {
   "cell_type": "markdown",
   "metadata": {},
   "source": [
    "### Reciever Operating Characteristic - Area Under Curve Score\n",
    "Based on the area under the ROC curve, a single value between 0 and 1 can be derived. A perfect classifier would have a score of 1, versus a completely random classifier would have a score of 0.5."
   ]
  },
  {
   "cell_type": "code",
   "execution_count": 37,
   "metadata": {},
   "outputs": [
    {
     "name": "stdout",
     "output_type": "stream",
     "text": [
      "ROC-AUC-Score: 0.9204587820492336\n"
     ]
    }
   ],
   "source": [
    "from sklearn.metrics import roc_auc_score\n",
    "y_scores = clf_rf.predict_proba(features_train)\n",
    "y_scores = y_scores[:,1]\n",
    "r_a_score = roc_auc_score(labels_train, y_scores)\n",
    "print(\"ROC-AUC-Score:\", r_a_score)"
   ]
  },
  {
   "cell_type": "markdown",
   "metadata": {},
   "source": [
    "Based on the performance metrics, the model appears ready for submission."
   ]
  },
  {
   "cell_type": "markdown",
   "metadata": {},
   "source": [
    "## Visualizing the Random Tree Classifier\n"
   ]
  },
  {
   "cell_type": "code",
   "execution_count": 38,
   "metadata": {},
   "outputs": [
    {
     "data": {
      "image/svg+xml": [
       "<?xml version=\"1.0\" encoding=\"UTF-8\" standalone=\"no\"?>\r\n",
       "<!DOCTYPE svg PUBLIC \"-//W3C//DTD SVG 1.1//EN\"\r\n",
       " \"http://www.w3.org/Graphics/SVG/1.1/DTD/svg11.dtd\">\r\n",
       "<!-- Generated by graphviz version 2.38.0 (20140413.2041)\r\n",
       " -->\r\n",
       "<!-- Title: Tree Pages: 1 -->\r\n",
       "<svg width=\"587pt\" height=\"356pt\"\r\n",
       " viewBox=\"0.00 0.00 587.00 356.00\" xmlns=\"http://www.w3.org/2000/svg\" xmlns:xlink=\"http://www.w3.org/1999/xlink\">\r\n",
       "<g id=\"graph0\" class=\"graph\" transform=\"scale(1 1) rotate(0) translate(4 352)\">\r\n",
       "<title>Tree</title>\r\n",
       "<polygon fill=\"white\" stroke=\"none\" points=\"-4,4 -4,-352 583,-352 583,4 -4,4\"/>\r\n",
       "<!-- 0 -->\r\n",
       "<g id=\"node1\" class=\"node\"><title>0</title>\r\n",
       "<polygon fill=\"#e58139\" fill-opacity=\"0.317647\" stroke=\"black\" points=\"348,-348 230,-348 230,-280 348,-280 348,-348\"/>\r\n",
       "<text text-anchor=\"middle\" x=\"289\" y=\"-332.8\" font-family=\"Times New Roman,serif\" font-size=\"14.00\">Title &lt;= 1.5</text>\r\n",
       "<text text-anchor=\"middle\" x=\"289\" y=\"-317.8\" font-family=\"Times New Roman,serif\" font-size=\"14.00\">gini = 0.482</text>\r\n",
       "<text text-anchor=\"middle\" x=\"289\" y=\"-302.8\" font-family=\"Times New Roman,serif\" font-size=\"14.00\">samples = 559</text>\r\n",
       "<text text-anchor=\"middle\" x=\"289\" y=\"-287.8\" font-family=\"Times New Roman,serif\" font-size=\"14.00\">value = [530, 361]</text>\r\n",
       "</g>\r\n",
       "<!-- 1 -->\r\n",
       "<g id=\"node2\" class=\"node\"><title>1</title>\r\n",
       "<polygon fill=\"#e58139\" fill-opacity=\"0.796078\" stroke=\"black\" points=\"278.5,-244 167.5,-244 167.5,-176 278.5,-176 278.5,-244\"/>\r\n",
       "<text text-anchor=\"middle\" x=\"223\" y=\"-228.8\" font-family=\"Times New Roman,serif\" font-size=\"14.00\">Pclass &lt;= 1.5</text>\r\n",
       "<text text-anchor=\"middle\" x=\"223\" y=\"-213.8\" font-family=\"Times New Roman,serif\" font-size=\"14.00\">gini = 0.283</text>\r\n",
       "<text text-anchor=\"middle\" x=\"223\" y=\"-198.8\" font-family=\"Times New Roman,serif\" font-size=\"14.00\">samples = 321</text>\r\n",
       "<text text-anchor=\"middle\" x=\"223\" y=\"-183.8\" font-family=\"Times New Roman,serif\" font-size=\"14.00\">value = [414, 85]</text>\r\n",
       "</g>\r\n",
       "<!-- 0&#45;&gt;1 -->\r\n",
       "<g id=\"edge1\" class=\"edge\"><title>0&#45;&gt;1</title>\r\n",
       "<path fill=\"none\" stroke=\"black\" d=\"M267.572,-279.884C261.981,-271.243 255.883,-261.819 250.042,-252.793\"/>\r\n",
       "<polygon fill=\"black\" stroke=\"black\" points=\"252.918,-250.794 244.547,-244.299 247.041,-254.596 252.918,-250.794\"/>\r\n",
       "<text text-anchor=\"middle\" x=\"239.308\" y=\"-265.044\" font-family=\"Times New Roman,serif\" font-size=\"14.00\">True</text>\r\n",
       "</g>\r\n",
       "<!-- 54 -->\r\n",
       "<g id=\"node9\" class=\"node\"><title>54</title>\r\n",
       "<polygon fill=\"#399de5\" fill-opacity=\"0.580392\" stroke=\"black\" points=\"415,-244 297,-244 297,-176 415,-176 415,-244\"/>\r\n",
       "<text text-anchor=\"middle\" x=\"356\" y=\"-228.8\" font-family=\"Times New Roman,serif\" font-size=\"14.00\">Fare &lt;= 70.0</text>\r\n",
       "<text text-anchor=\"middle\" x=\"356\" y=\"-213.8\" font-family=\"Times New Roman,serif\" font-size=\"14.00\">gini = 0.417</text>\r\n",
       "<text text-anchor=\"middle\" x=\"356\" y=\"-198.8\" font-family=\"Times New Roman,serif\" font-size=\"14.00\">samples = 238</text>\r\n",
       "<text text-anchor=\"middle\" x=\"356\" y=\"-183.8\" font-family=\"Times New Roman,serif\" font-size=\"14.00\">value = [116, 276]</text>\r\n",
       "</g>\r\n",
       "<!-- 0&#45;&gt;54 -->\r\n",
       "<g id=\"edge8\" class=\"edge\"><title>0&#45;&gt;54</title>\r\n",
       "<path fill=\"none\" stroke=\"black\" d=\"M310.753,-279.884C316.428,-271.243 322.619,-261.819 328.548,-252.793\"/>\r\n",
       "<polygon fill=\"black\" stroke=\"black\" points=\"331.562,-254.579 334.127,-244.299 325.711,-250.736 331.562,-254.579\"/>\r\n",
       "<text text-anchor=\"middle\" x=\"339.197\" y=\"-265.08\" font-family=\"Times New Roman,serif\" font-size=\"14.00\">False</text>\r\n",
       "</g>\r\n",
       "<!-- 2 -->\r\n",
       "<g id=\"node3\" class=\"node\"><title>2</title>\r\n",
       "<polygon fill=\"#e58139\" fill-opacity=\"0.470588\" stroke=\"black\" points=\"149,-140 45,-140 45,-72 149,-72 149,-140\"/>\r\n",
       "<text text-anchor=\"middle\" x=\"97\" y=\"-124.8\" font-family=\"Times New Roman,serif\" font-size=\"14.00\">Age &lt;= 5.5</text>\r\n",
       "<text text-anchor=\"middle\" x=\"97\" y=\"-109.8\" font-family=\"Times New Roman,serif\" font-size=\"14.00\">gini = 0.452</text>\r\n",
       "<text text-anchor=\"middle\" x=\"97\" y=\"-94.8\" font-family=\"Times New Roman,serif\" font-size=\"14.00\">samples = 70</text>\r\n",
       "<text text-anchor=\"middle\" x=\"97\" y=\"-79.8\" font-family=\"Times New Roman,serif\" font-size=\"14.00\">value = [72, 38]</text>\r\n",
       "</g>\r\n",
       "<!-- 1&#45;&gt;2 -->\r\n",
       "<g id=\"edge2\" class=\"edge\"><title>1&#45;&gt;2</title>\r\n",
       "<path fill=\"none\" stroke=\"black\" d=\"M182.091,-175.884C170.648,-166.62 158.091,-156.455 146.221,-146.845\"/>\r\n",
       "<polygon fill=\"black\" stroke=\"black\" points=\"148.109,-143.871 138.135,-140.299 143.705,-149.312 148.109,-143.871\"/>\r\n",
       "</g>\r\n",
       "<!-- 15 -->\r\n",
       "<g id=\"node6\" class=\"node\"><title>15</title>\r\n",
       "<polygon fill=\"#e58139\" fill-opacity=\"0.862745\" stroke=\"black\" points=\"278.5,-140 167.5,-140 167.5,-72 278.5,-72 278.5,-140\"/>\r\n",
       "<text text-anchor=\"middle\" x=\"223\" y=\"-124.8\" font-family=\"Times New Roman,serif\" font-size=\"14.00\">Family &lt;= 2.5</text>\r\n",
       "<text text-anchor=\"middle\" x=\"223\" y=\"-109.8\" font-family=\"Times New Roman,serif\" font-size=\"14.00\">gini = 0.212</text>\r\n",
       "<text text-anchor=\"middle\" x=\"223\" y=\"-94.8\" font-family=\"Times New Roman,serif\" font-size=\"14.00\">samples = 251</text>\r\n",
       "<text text-anchor=\"middle\" x=\"223\" y=\"-79.8\" font-family=\"Times New Roman,serif\" font-size=\"14.00\">value = [342, 47]</text>\r\n",
       "</g>\r\n",
       "<!-- 1&#45;&gt;15 -->\r\n",
       "<g id=\"edge5\" class=\"edge\"><title>1&#45;&gt;15</title>\r\n",
       "<path fill=\"none\" stroke=\"black\" d=\"M223,-175.884C223,-167.778 223,-158.982 223,-150.472\"/>\r\n",
       "<polygon fill=\"black\" stroke=\"black\" points=\"226.5,-150.299 223,-140.299 219.5,-150.299 226.5,-150.299\"/>\r\n",
       "</g>\r\n",
       "<!-- 3 -->\r\n",
       "<g id=\"node4\" class=\"node\"><title>3</title>\r\n",
       "<polygon fill=\"#c0c0c0\" stroke=\"black\" points=\"54,-36 0,-36 0,-0 54,-0 54,-36\"/>\r\n",
       "<text text-anchor=\"middle\" x=\"27\" y=\"-14.3\" font-family=\"Times New Roman,serif\" font-size=\"14.00\">(...)</text>\r\n",
       "</g>\r\n",
       "<!-- 2&#45;&gt;3 -->\r\n",
       "<g id=\"edge3\" class=\"edge\"><title>2&#45;&gt;3</title>\r\n",
       "<path fill=\"none\" stroke=\"black\" d=\"M70.1364,-71.9961C62.6566,-62.8067 54.652,-52.9725 47.5942,-44.3014\"/>\r\n",
       "<polygon fill=\"black\" stroke=\"black\" points=\"50.1928,-41.9496 41.1655,-36.4034 44.7638,-46.3685 50.1928,-41.9496\"/>\r\n",
       "</g>\r\n",
       "<!-- 12 -->\r\n",
       "<g id=\"node5\" class=\"node\"><title>12</title>\r\n",
       "<polygon fill=\"#c0c0c0\" stroke=\"black\" points=\"126,-36 72,-36 72,-0 126,-0 126,-36\"/>\r\n",
       "<text text-anchor=\"middle\" x=\"99\" y=\"-14.3\" font-family=\"Times New Roman,serif\" font-size=\"14.00\">(...)</text>\r\n",
       "</g>\r\n",
       "<!-- 2&#45;&gt;12 -->\r\n",
       "<g id=\"edge4\" class=\"edge\"><title>2&#45;&gt;12</title>\r\n",
       "<path fill=\"none\" stroke=\"black\" d=\"M97.7675,-71.9961C97.9636,-63.5646 98.1723,-54.5902 98.3612,-46.4696\"/>\r\n",
       "<polygon fill=\"black\" stroke=\"black\" points=\"101.862,-46.4821 98.5953,-36.4034 94.8636,-46.3193 101.862,-46.4821\"/>\r\n",
       "</g>\r\n",
       "<!-- 16 -->\r\n",
       "<g id=\"node7\" class=\"node\"><title>16</title>\r\n",
       "<polygon fill=\"#c0c0c0\" stroke=\"black\" points=\"210,-36 156,-36 156,-0 210,-0 210,-36\"/>\r\n",
       "<text text-anchor=\"middle\" x=\"183\" y=\"-14.3\" font-family=\"Times New Roman,serif\" font-size=\"14.00\">(...)</text>\r\n",
       "</g>\r\n",
       "<!-- 15&#45;&gt;16 -->\r\n",
       "<g id=\"edge6\" class=\"edge\"><title>15&#45;&gt;16</title>\r\n",
       "<path fill=\"none\" stroke=\"black\" d=\"M207.649,-71.9961C203.596,-63.2804 199.272,-53.9846 195.396,-45.6514\"/>\r\n",
       "<polygon fill=\"black\" stroke=\"black\" points=\"198.485,-43.9945 191.095,-36.4034 192.138,-46.9467 198.485,-43.9945\"/>\r\n",
       "</g>\r\n",
       "<!-- 53 -->\r\n",
       "<g id=\"node8\" class=\"node\"><title>53</title>\r\n",
       "<polygon fill=\"#c0c0c0\" stroke=\"black\" points=\"282,-36 228,-36 228,-0 282,-0 282,-36\"/>\r\n",
       "<text text-anchor=\"middle\" x=\"255\" y=\"-14.3\" font-family=\"Times New Roman,serif\" font-size=\"14.00\">(...)</text>\r\n",
       "</g>\r\n",
       "<!-- 15&#45;&gt;53 -->\r\n",
       "<g id=\"edge7\" class=\"edge\"><title>15&#45;&gt;53</title>\r\n",
       "<path fill=\"none\" stroke=\"black\" d=\"M235.281,-71.9961C238.488,-63.3751 241.907,-54.1866 244.982,-45.9234\"/>\r\n",
       "<polygon fill=\"black\" stroke=\"black\" points=\"248.317,-46.9962 248.524,-36.4034 241.757,-44.555 248.317,-46.9962\"/>\r\n",
       "</g>\r\n",
       "<!-- 55 -->\r\n",
       "<g id=\"node10\" class=\"node\"><title>55</title>\r\n",
       "<polygon fill=\"#399de5\" fill-opacity=\"0.447059\" stroke=\"black\" points=\"415,-140 297,-140 297,-72 415,-72 415,-140\"/>\r\n",
       "<text text-anchor=\"middle\" x=\"356\" y=\"-124.8\" font-family=\"Times New Roman,serif\" font-size=\"14.00\">Fare &lt;= 67.5</text>\r\n",
       "<text text-anchor=\"middle\" x=\"356\" y=\"-109.8\" font-family=\"Times New Roman,serif\" font-size=\"14.00\">gini = 0.459</text>\r\n",
       "<text text-anchor=\"middle\" x=\"356\" y=\"-94.8\" font-family=\"Times New Roman,serif\" font-size=\"14.00\">samples = 191</text>\r\n",
       "<text text-anchor=\"middle\" x=\"356\" y=\"-79.8\" font-family=\"Times New Roman,serif\" font-size=\"14.00\">value = [114, 206]</text>\r\n",
       "</g>\r\n",
       "<!-- 54&#45;&gt;55 -->\r\n",
       "<g id=\"edge9\" class=\"edge\"><title>54&#45;&gt;55</title>\r\n",
       "<path fill=\"none\" stroke=\"black\" d=\"M356,-175.884C356,-167.778 356,-158.982 356,-150.472\"/>\r\n",
       "<polygon fill=\"black\" stroke=\"black\" points=\"359.5,-150.299 356,-140.299 352.5,-150.299 359.5,-150.299\"/>\r\n",
       "</g>\r\n",
       "<!-- 92 -->\r\n",
       "<g id=\"node13\" class=\"node\"><title>92</title>\r\n",
       "<polygon fill=\"#399de5\" fill-opacity=\"0.972549\" stroke=\"black\" points=\"531,-140 433,-140 433,-72 531,-72 531,-140\"/>\r\n",
       "<text text-anchor=\"middle\" x=\"482\" y=\"-124.8\" font-family=\"Times New Roman,serif\" font-size=\"14.00\">Age &lt;= 2.5</text>\r\n",
       "<text text-anchor=\"middle\" x=\"482\" y=\"-109.8\" font-family=\"Times New Roman,serif\" font-size=\"14.00\">gini = 0.054</text>\r\n",
       "<text text-anchor=\"middle\" x=\"482\" y=\"-94.8\" font-family=\"Times New Roman,serif\" font-size=\"14.00\">samples = 47</text>\r\n",
       "<text text-anchor=\"middle\" x=\"482\" y=\"-79.8\" font-family=\"Times New Roman,serif\" font-size=\"14.00\">value = [2, 70]</text>\r\n",
       "</g>\r\n",
       "<!-- 54&#45;&gt;92 -->\r\n",
       "<g id=\"edge12\" class=\"edge\"><title>54&#45;&gt;92</title>\r\n",
       "<path fill=\"none\" stroke=\"black\" d=\"M396.909,-175.884C408.352,-166.62 420.909,-156.455 432.779,-146.845\"/>\r\n",
       "<polygon fill=\"black\" stroke=\"black\" points=\"435.295,-149.312 440.865,-140.299 430.891,-143.871 435.295,-149.312\"/>\r\n",
       "</g>\r\n",
       "<!-- 56 -->\r\n",
       "<g id=\"node11\" class=\"node\"><title>56</title>\r\n",
       "<polygon fill=\"#c0c0c0\" stroke=\"black\" points=\"360,-36 306,-36 306,-0 360,-0 360,-36\"/>\r\n",
       "<text text-anchor=\"middle\" x=\"333\" y=\"-14.3\" font-family=\"Times New Roman,serif\" font-size=\"14.00\">(...)</text>\r\n",
       "</g>\r\n",
       "<!-- 55&#45;&gt;56 -->\r\n",
       "<g id=\"edge10\" class=\"edge\"><title>55&#45;&gt;56</title>\r\n",
       "<path fill=\"none\" stroke=\"black\" d=\"M347.173,-71.9961C344.893,-63.4699 342.464,-54.3885 340.273,-46.1962\"/>\r\n",
       "<polygon fill=\"black\" stroke=\"black\" points=\"343.619,-45.1596 337.654,-36.4034 336.857,-46.9682 343.619,-45.1596\"/>\r\n",
       "</g>\r\n",
       "<!-- 91 -->\r\n",
       "<g id=\"node12\" class=\"node\"><title>91</title>\r\n",
       "<polygon fill=\"#c0c0c0\" stroke=\"black\" points=\"432,-36 378,-36 378,-0 432,-0 432,-36\"/>\r\n",
       "<text text-anchor=\"middle\" x=\"405\" y=\"-14.3\" font-family=\"Times New Roman,serif\" font-size=\"14.00\">(...)</text>\r\n",
       "</g>\r\n",
       "<!-- 55&#45;&gt;91 -->\r\n",
       "<g id=\"edge11\" class=\"edge\"><title>55&#45;&gt;91</title>\r\n",
       "<path fill=\"none\" stroke=\"black\" d=\"M374.805,-71.9961C379.878,-63.0909 385.297,-53.5802 390.124,-45.1093\"/>\r\n",
       "<polygon fill=\"black\" stroke=\"black\" points=\"393.175,-46.8247 395.084,-36.4034 387.093,-43.3593 393.175,-46.8247\"/>\r\n",
       "</g>\r\n",
       "<!-- 93 -->\r\n",
       "<g id=\"node14\" class=\"node\"><title>93</title>\r\n",
       "<polygon fill=\"#c0c0c0\" stroke=\"black\" points=\"507,-36 453,-36 453,-0 507,-0 507,-36\"/>\r\n",
       "<text text-anchor=\"middle\" x=\"480\" y=\"-14.3\" font-family=\"Times New Roman,serif\" font-size=\"14.00\">(...)</text>\r\n",
       "</g>\r\n",
       "<!-- 92&#45;&gt;93 -->\r\n",
       "<g id=\"edge13\" class=\"edge\"><title>92&#45;&gt;93</title>\r\n",
       "<path fill=\"none\" stroke=\"black\" d=\"M481.232,-71.9961C481.036,-63.5646 480.828,-54.5902 480.639,-46.4696\"/>\r\n",
       "<polygon fill=\"black\" stroke=\"black\" points=\"484.136,-46.3193 480.405,-36.4034 477.138,-46.4821 484.136,-46.3193\"/>\r\n",
       "</g>\r\n",
       "<!-- 96 -->\r\n",
       "<g id=\"node15\" class=\"node\"><title>96</title>\r\n",
       "<polygon fill=\"#c0c0c0\" stroke=\"black\" points=\"579,-36 525,-36 525,-0 579,-0 579,-36\"/>\r\n",
       "<text text-anchor=\"middle\" x=\"552\" y=\"-14.3\" font-family=\"Times New Roman,serif\" font-size=\"14.00\">(...)</text>\r\n",
       "</g>\r\n",
       "<!-- 92&#45;&gt;96 -->\r\n",
       "<g id=\"edge14\" class=\"edge\"><title>92&#45;&gt;96</title>\r\n",
       "<path fill=\"none\" stroke=\"black\" d=\"M508.864,-71.9961C516.343,-62.8067 524.348,-52.9725 531.406,-44.3014\"/>\r\n",
       "<polygon fill=\"black\" stroke=\"black\" points=\"534.236,-46.3685 537.834,-36.4034 528.807,-41.9496 534.236,-46.3685\"/>\r\n",
       "</g>\r\n",
       "</g>\r\n",
       "</svg>\r\n"
      ],
      "text/plain": [
       "<graphviz.files.Source at 0x298d2cc6710>"
      ]
     },
     "execution_count": 38,
     "metadata": {},
     "output_type": "execute_result"
    }
   ],
   "source": [
    "estimator = clf_rf.estimators_[7]\n",
    "\n",
    "from sklearn.tree import export_graphviz\n",
    "\n",
    "export_graphviz(estimator, out_file='tree.dot', filled = True, max_depth=2,\n",
    "                feature_names = features_train.columns)\n",
    "\n",
    "import graphviz\n",
    "\n",
    "with open(\"tree.dot\") as f:\n",
    "    dot_graph = f.read()\n",
    "graphviz.Source(dot_graph)"
   ]
  },
  {
   "cell_type": "markdown",
   "metadata": {},
   "source": [
    "## 10. Prediction and Export"
   ]
  },
  {
   "cell_type": "code",
   "execution_count": 39,
   "metadata": {},
   "outputs": [],
   "source": [
    "features_test  = pd.DataFrame(test_data, columns=['Sex', 'Age', 'Pclass', 'Fare', 'Family', 'Title'])\n",
    "features_test.fillna(np.mean(features_test.Age), inplace=True)\n",
    "mean_fare=np.mean(features_test.Fare)\n",
    "features_test.Fare=features_train.Fare.mask(features_test.Fare == 0,mean_fare)"
   ]
  },
  {
   "cell_type": "code",
   "execution_count": 40,
   "metadata": {},
   "outputs": [
    {
     "name": "stdout",
     "output_type": "stream",
     "text": [
      "<class 'pandas.core.frame.DataFrame'>\n",
      "RangeIndex: 418 entries, 0 to 417\n",
      "Data columns (total 6 columns):\n",
      "Sex       418 non-null int64\n",
      "Age       418 non-null int32\n",
      "Pclass    418 non-null int64\n",
      "Fare      418 non-null float64\n",
      "Family    418 non-null int64\n",
      "Title     418 non-null int64\n",
      "dtypes: float64(1), int32(1), int64(4)\n",
      "memory usage: 18.0 KB\n"
     ]
    }
   ],
   "source": [
    "features_test.info()"
   ]
  },
  {
   "cell_type": "code",
   "execution_count": 41,
   "metadata": {},
   "outputs": [],
   "source": [
    "pred = clf_rf.predict(features_test)\n",
    "pred = pd.Series(pred)                  \n",
    "\n",
    "results = pd.DataFrame({'PassengerId': test_data.PassengerId, 'Survived': pred})\n",
    "\n",
    "#print answer to csv file\n",
    "results.to_csv('final_rfc.csv', index = False)"
   ]
  },
  {
   "cell_type": "markdown",
   "metadata": {},
   "source": [
    "## Acknowledgements"
   ]
  },
  {
   "cell_type": "markdown",
   "metadata": {},
   "source": [
    "Kaggle: Titanic: Machine Learning from Disaster"
   ]
  },
  {
   "cell_type": "markdown",
   "metadata": {},
   "source": [
    "\"Predicting the Survival of Titanic Passengers\" By: Niklas Donges - Used for help on Title Processing and Evaluation Metrics"
   ]
  },
  {
   "cell_type": "markdown",
   "metadata": {},
   "source": [
    "\"Hands-On Machine Learning with Scikit-Learn and TensorFlow\" By: Aurelien Geron"
   ]
  }
 ],
 "metadata": {
  "kernelspec": {
   "display_name": "Python 3",
   "language": "python",
   "name": "python3"
  },
  "language_info": {
   "codemirror_mode": {
    "name": "ipython",
    "version": 3
   },
   "file_extension": ".py",
   "mimetype": "text/x-python",
   "name": "python",
   "nbconvert_exporter": "python",
   "pygments_lexer": "ipython3",
   "version": "3.7.0"
  }
 },
 "nbformat": 4,
 "nbformat_minor": 2
}
